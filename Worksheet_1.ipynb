{
 "cells": [
  {
   "cell_type": "code",
   "execution_count": null,
   "id": "f3e491cc",
   "metadata": {},
   "outputs": [],
   "source": [
    "#factorial\n",
    "def factorial(n):\n",
    "\n",
    "   return 1 if (n==1 or n==0) else n * factorial(n - 1)\n",
    " \n",
    "num = 4\n",
    "print (\"Factorial of\",num,\"is\",\n",
    "     factorial(num))\n",
    "\n"
   ]
  },
  {
   "cell_type": "code",
   "execution_count": null,
   "id": "991640b3",
   "metadata": {},
   "outputs": [],
   "source": [
    "#Input a number and check if the number is prime or composite number\n",
    "n= int(input(\"Enter any number:\"))\n",
    "if(n ==0 or n == 1):\n",
    "   printf(n,\"Number is neither prime nor composite\")\n",
    "elif n>1 :\n",
    "   for i in range(2,n):\n",
    "       if(n%i == 0):\n",
    "           print(n,\"is not prime but composite number\")\n",
    "           break\n",
    "   else:\n",
    "       print(n,\"number is prime but not composite number\")\n",
    "else :\n",
    "   print(\"Please enter positive number only \")"
   ]
  },
  {
   "cell_type": "code",
   "execution_count": null,
   "id": "28116fcc",
   "metadata": {},
   "outputs": [],
   "source": [
    "\n",
    "# Python program to check\n",
    "# if a string is palindrome\n",
    "\n",
    "ps = 'malayalam'\n",
    "j = -1\n",
    "flag = 0\n",
    "for i in ps:\n",
    "    if i != ps[j]:\n",
    "        flag = 1\n",
    "        break\n",
    "    j = j - 1\n",
    "if flag == 1:\n",
    "    print(\"NO\")\n",
    "else:\n",
    "    print(\"Yes\")"
   ]
  },
  {
   "cell_type": "code",
   "execution_count": null,
   "id": "b89edcbc",
   "metadata": {},
   "outputs": [],
   "source": [
    "#Python program to get the third side of right-angled triangle from two given sides.\n",
    "def pythagoras(opposite_side,adjacent_side,hypotenuse):\n",
    "        if opposite_side == str(\"x\"):\n",
    "            return (\"Opposite = \" + str(((hypotenuse**2) - (adjacent_side**2))**0.5))\n",
    "        elif adjacent_side == str(\"x\"):\n",
    "            return (\"Adjacent = \" + str(((hypotenuse**2) - (opposite_side**2))**0.5))\n",
    "        elif hypotenuse == str(\"x\"):\n",
    "            return (\"Hypotenuse = \" + str(((opposite_side**2) + (adjacent_side**2))**0.5))\n",
    "        else:\n",
    "            return \"You know the answer!\"\n",
    "    \n",
    "print(pythagoras(3,4,'x'))\n",
    "print(pythagoras(3,'x',5))\n",
    "print(pythagoras('x',4,5))\n",
    "print(pythagoras(3,4,5))\n"
   ]
  },
  {
   "cell_type": "code",
   "execution_count": null,
   "id": "5795d567",
   "metadata": {},
   "outputs": [],
   "source": [
    "str1 = input (\"Enter the string: \")\n",
    "d = dict()\n",
    "for c in str1:\n",
    "    if c in d:\n",
    "        d[c] = d[c] + 1\n",
    "    else:\n",
    "        d[c] = 1\n",
    "print(d)"
   ]
  },
  {
   "cell_type": "code",
   "execution_count": null,
   "id": "13ab09c0",
   "metadata": {},
   "outputs": [],
   "source": []
  }
 ],
 "metadata": {
  "kernelspec": {
   "display_name": "Python 3 (ipykernel)",
   "language": "python",
   "name": "python3"
  },
  "language_info": {
   "codemirror_mode": {
    "name": "ipython",
    "version": 3
   },
   "file_extension": ".py",
   "mimetype": "text/x-python",
   "name": "python",
   "nbconvert_exporter": "python",
   "pygments_lexer": "ipython3",
   "version": "3.9.7"
  }
 },
 "nbformat": 4,
 "nbformat_minor": 5
}
