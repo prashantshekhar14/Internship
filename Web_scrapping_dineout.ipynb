{
 "cells": [
  {
   "cell_type": "code",
   "execution_count": 1,
   "id": "f1691549",
   "metadata": {},
   "outputs": [],
   "source": [
    "#importing the required liabraries\n",
    "from bs4 import BeautifulSoup\n",
    "import requests"
   ]
  },
  {
   "cell_type": "code",
   "execution_count": 12,
   "id": "fcb64e36",
   "metadata": {},
   "outputs": [
    {
     "data": {
      "text/plain": [
       "<Response [200]>"
      ]
     },
     "execution_count": 12,
     "metadata": {},
     "output_type": "execute_result"
    }
   ],
   "source": [
    "page = requests.get(\"https://www.dineout.co.in/\")\n",
    "page"
   ]
  },
  {
   "cell_type": "code",
   "execution_count": 13,
   "id": "c3c1c4a9",
   "metadata": {},
   "outputs": [],
   "source": [
    "dineout= BeautifulSoup(page.content)"
   ]
  },
  {
   "cell_type": "code",
   "execution_count": 14,
   "id": "c6ffe81f",
   "metadata": {},
   "outputs": [],
   "source": [
    "dineoutl=dineout.find('h4',class_=\"_1jbOb\")"
   ]
  },
  {
   "cell_type": "code",
   "execution_count": 7,
   "id": "1fa4401d",
   "metadata": {},
   "outputs": [
    {
     "data": {
      "text/plain": [
       "'High 5 - Everyday Wholesale Bar'"
      ]
     },
     "execution_count": 7,
     "metadata": {},
     "output_type": "execute_result"
    }
   ],
   "source": [
    "dineout.text"
   ]
  },
  {
   "cell_type": "code",
   "execution_count": 16,
   "id": "82d74e45",
   "metadata": {},
   "outputs": [],
   "source": [
    "dineoutli=dineout.find('div',class_=\"_9FNkO\")"
   ]
  },
  {
   "cell_type": "code",
   "execution_count": null,
   "id": "b8c2f3a7",
   "metadata": {},
   "outputs": [],
   "source": []
  }
 ],
 "metadata": {
  "kernelspec": {
   "display_name": "Python 3 (ipykernel)",
   "language": "python",
   "name": "python3"
  },
  "language_info": {
   "codemirror_mode": {
    "name": "ipython",
    "version": 3
   },
   "file_extension": ".py",
   "mimetype": "text/x-python",
   "name": "python",
   "nbconvert_exporter": "python",
   "pygments_lexer": "ipython3",
   "version": "3.9.7"
  }
 },
 "nbformat": 4,
 "nbformat_minor": 5
}
